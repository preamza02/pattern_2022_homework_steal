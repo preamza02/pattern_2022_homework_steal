{
 "cells": [
  {
   "cell_type": "code",
   "execution_count": 1,
   "metadata": {},
   "outputs": [],
   "source": [
    "import pandas as pd\n",
    "import numpy as np"
   ]
  },
  {
   "cell_type": "code",
   "execution_count": 2,
   "metadata": {},
   "outputs": [],
   "source": [
    "train_url = \"http://s3.amazonaws.com/assets.datacamp.com/course/Kaggle/train.csv\"\n",
    "train = pd.read_csv(train_url) #training set\n",
    "test_url = \"http://s3.amazonaws.com/assets.datacamp.com/course/Kaggle/test.csv\"\n",
    "test = pd.read_csv(test_url) #test set\n"
   ]
  },
  {
   "cell_type": "code",
   "execution_count": 19,
   "metadata": {},
   "outputs": [
    {
     "data": {
      "text/plain": [
       "array([3, 1, 2], dtype=int64)"
      ]
     },
     "execution_count": 19,
     "metadata": {},
     "output_type": "execute_result"
    }
   ],
   "source": [
    "train['Pclass'].unique()"
   ]
  },
  {
   "cell_type": "code",
   "execution_count": 3,
   "metadata": {},
   "outputs": [],
   "source": [
    "train[\"Age\"] = train[\"Age\"].fillna(train[\"Age\"].median())\n"
   ]
  },
  {
   "cell_type": "code",
   "execution_count": 78,
   "metadata": {},
   "outputs": [
    {
     "data": {
      "text/html": [
       "<div>\n",
       "<style scoped>\n",
       "    .dataframe tbody tr th:only-of-type {\n",
       "        vertical-align: middle;\n",
       "    }\n",
       "\n",
       "    .dataframe tbody tr th {\n",
       "        vertical-align: top;\n",
       "    }\n",
       "\n",
       "    .dataframe thead th {\n",
       "        text-align: right;\n",
       "    }\n",
       "</style>\n",
       "<table border=\"1\" class=\"dataframe\">\n",
       "  <thead>\n",
       "    <tr style=\"text-align: right;\">\n",
       "      <th></th>\n",
       "      <th>PassengerId</th>\n",
       "      <th>Survived</th>\n",
       "      <th>Pclass</th>\n",
       "      <th>Name</th>\n",
       "      <th>Sex</th>\n",
       "      <th>Age</th>\n",
       "      <th>SibSp</th>\n",
       "      <th>Parch</th>\n",
       "      <th>Ticket</th>\n",
       "      <th>Fare</th>\n",
       "      <th>Cabin</th>\n",
       "      <th>Embarked</th>\n",
       "    </tr>\n",
       "  </thead>\n",
       "  <tbody>\n",
       "    <tr>\n",
       "      <th>0</th>\n",
       "      <td>1</td>\n",
       "      <td>0</td>\n",
       "      <td>3</td>\n",
       "      <td>Braund, Mr. Owen Harris</td>\n",
       "      <td>0</td>\n",
       "      <td>22.0</td>\n",
       "      <td>1</td>\n",
       "      <td>0</td>\n",
       "      <td>A/5 21171</td>\n",
       "      <td>7.2500</td>\n",
       "      <td>NaN</td>\n",
       "      <td>0</td>\n",
       "    </tr>\n",
       "    <tr>\n",
       "      <th>1</th>\n",
       "      <td>2</td>\n",
       "      <td>1</td>\n",
       "      <td>1</td>\n",
       "      <td>Cumings, Mrs. John Bradley (Florence Briggs Th...</td>\n",
       "      <td>1</td>\n",
       "      <td>38.0</td>\n",
       "      <td>1</td>\n",
       "      <td>0</td>\n",
       "      <td>PC 17599</td>\n",
       "      <td>71.2833</td>\n",
       "      <td>C85</td>\n",
       "      <td>1</td>\n",
       "    </tr>\n",
       "    <tr>\n",
       "      <th>2</th>\n",
       "      <td>3</td>\n",
       "      <td>1</td>\n",
       "      <td>3</td>\n",
       "      <td>Heikkinen, Miss. Laina</td>\n",
       "      <td>1</td>\n",
       "      <td>26.0</td>\n",
       "      <td>0</td>\n",
       "      <td>0</td>\n",
       "      <td>STON/O2. 3101282</td>\n",
       "      <td>7.9250</td>\n",
       "      <td>NaN</td>\n",
       "      <td>0</td>\n",
       "    </tr>\n",
       "    <tr>\n",
       "      <th>3</th>\n",
       "      <td>4</td>\n",
       "      <td>1</td>\n",
       "      <td>1</td>\n",
       "      <td>Futrelle, Mrs. Jacques Heath (Lily May Peel)</td>\n",
       "      <td>1</td>\n",
       "      <td>35.0</td>\n",
       "      <td>1</td>\n",
       "      <td>0</td>\n",
       "      <td>113803</td>\n",
       "      <td>53.1000</td>\n",
       "      <td>C123</td>\n",
       "      <td>0</td>\n",
       "    </tr>\n",
       "    <tr>\n",
       "      <th>4</th>\n",
       "      <td>5</td>\n",
       "      <td>0</td>\n",
       "      <td>3</td>\n",
       "      <td>Allen, Mr. William Henry</td>\n",
       "      <td>0</td>\n",
       "      <td>35.0</td>\n",
       "      <td>0</td>\n",
       "      <td>0</td>\n",
       "      <td>373450</td>\n",
       "      <td>8.0500</td>\n",
       "      <td>NaN</td>\n",
       "      <td>0</td>\n",
       "    </tr>\n",
       "    <tr>\n",
       "      <th>...</th>\n",
       "      <td>...</td>\n",
       "      <td>...</td>\n",
       "      <td>...</td>\n",
       "      <td>...</td>\n",
       "      <td>...</td>\n",
       "      <td>...</td>\n",
       "      <td>...</td>\n",
       "      <td>...</td>\n",
       "      <td>...</td>\n",
       "      <td>...</td>\n",
       "      <td>...</td>\n",
       "      <td>...</td>\n",
       "    </tr>\n",
       "    <tr>\n",
       "      <th>886</th>\n",
       "      <td>887</td>\n",
       "      <td>0</td>\n",
       "      <td>2</td>\n",
       "      <td>Montvila, Rev. Juozas</td>\n",
       "      <td>0</td>\n",
       "      <td>27.0</td>\n",
       "      <td>0</td>\n",
       "      <td>0</td>\n",
       "      <td>211536</td>\n",
       "      <td>13.0000</td>\n",
       "      <td>NaN</td>\n",
       "      <td>0</td>\n",
       "    </tr>\n",
       "    <tr>\n",
       "      <th>887</th>\n",
       "      <td>888</td>\n",
       "      <td>1</td>\n",
       "      <td>1</td>\n",
       "      <td>Graham, Miss. Margaret Edith</td>\n",
       "      <td>1</td>\n",
       "      <td>19.0</td>\n",
       "      <td>0</td>\n",
       "      <td>0</td>\n",
       "      <td>112053</td>\n",
       "      <td>30.0000</td>\n",
       "      <td>B42</td>\n",
       "      <td>0</td>\n",
       "    </tr>\n",
       "    <tr>\n",
       "      <th>888</th>\n",
       "      <td>889</td>\n",
       "      <td>0</td>\n",
       "      <td>3</td>\n",
       "      <td>Johnston, Miss. Catherine Helen \"Carrie\"</td>\n",
       "      <td>1</td>\n",
       "      <td>28.0</td>\n",
       "      <td>1</td>\n",
       "      <td>2</td>\n",
       "      <td>W./C. 6607</td>\n",
       "      <td>23.4500</td>\n",
       "      <td>NaN</td>\n",
       "      <td>0</td>\n",
       "    </tr>\n",
       "    <tr>\n",
       "      <th>889</th>\n",
       "      <td>890</td>\n",
       "      <td>1</td>\n",
       "      <td>1</td>\n",
       "      <td>Behr, Mr. Karl Howell</td>\n",
       "      <td>0</td>\n",
       "      <td>26.0</td>\n",
       "      <td>0</td>\n",
       "      <td>0</td>\n",
       "      <td>111369</td>\n",
       "      <td>30.0000</td>\n",
       "      <td>C148</td>\n",
       "      <td>1</td>\n",
       "    </tr>\n",
       "    <tr>\n",
       "      <th>890</th>\n",
       "      <td>891</td>\n",
       "      <td>0</td>\n",
       "      <td>3</td>\n",
       "      <td>Dooley, Mr. Patrick</td>\n",
       "      <td>0</td>\n",
       "      <td>32.0</td>\n",
       "      <td>0</td>\n",
       "      <td>0</td>\n",
       "      <td>370376</td>\n",
       "      <td>7.7500</td>\n",
       "      <td>NaN</td>\n",
       "      <td>2</td>\n",
       "    </tr>\n",
       "  </tbody>\n",
       "</table>\n",
       "<p>891 rows × 12 columns</p>\n",
       "</div>"
      ],
      "text/plain": [
       "     PassengerId  Survived  Pclass  \\\n",
       "0              1         0       3   \n",
       "1              2         1       1   \n",
       "2              3         1       3   \n",
       "3              4         1       1   \n",
       "4              5         0       3   \n",
       "..           ...       ...     ...   \n",
       "886          887         0       2   \n",
       "887          888         1       1   \n",
       "888          889         0       3   \n",
       "889          890         1       1   \n",
       "890          891         0       3   \n",
       "\n",
       "                                                  Name Sex   Age  SibSp  \\\n",
       "0                              Braund, Mr. Owen Harris   0  22.0      1   \n",
       "1    Cumings, Mrs. John Bradley (Florence Briggs Th...   1  38.0      1   \n",
       "2                               Heikkinen, Miss. Laina   1  26.0      0   \n",
       "3         Futrelle, Mrs. Jacques Heath (Lily May Peel)   1  35.0      1   \n",
       "4                             Allen, Mr. William Henry   0  35.0      0   \n",
       "..                                                 ...  ..   ...    ...   \n",
       "886                              Montvila, Rev. Juozas   0  27.0      0   \n",
       "887                       Graham, Miss. Margaret Edith   1  19.0      0   \n",
       "888           Johnston, Miss. Catherine Helen \"Carrie\"   1  28.0      1   \n",
       "889                              Behr, Mr. Karl Howell   0  26.0      0   \n",
       "890                                Dooley, Mr. Patrick   0  32.0      0   \n",
       "\n",
       "     Parch            Ticket     Fare Cabin Embarked  \n",
       "0        0         A/5 21171   7.2500   NaN        0  \n",
       "1        0          PC 17599  71.2833   C85        1  \n",
       "2        0  STON/O2. 3101282   7.9250   NaN        0  \n",
       "3        0            113803  53.1000  C123        0  \n",
       "4        0            373450   8.0500   NaN        0  \n",
       "..     ...               ...      ...   ...      ...  \n",
       "886      0            211536  13.0000   NaN        0  \n",
       "887      0            112053  30.0000   B42        0  \n",
       "888      2        W./C. 6607  23.4500   NaN        0  \n",
       "889      0            111369  30.0000  C148        1  \n",
       "890      0            370376   7.7500   NaN        2  \n",
       "\n",
       "[891 rows x 12 columns]"
      ]
     },
     "execution_count": 78,
     "metadata": {},
     "output_type": "execute_result"
    }
   ],
   "source": [
    "train"
   ]
  },
  {
   "cell_type": "code",
   "execution_count": 27,
   "metadata": {},
   "outputs": [],
   "source": [
    "train.loc[train[\"Embarked\"] == \"S\", \"Embarked\"] = 0\n",
    "train.loc[train['Embarked'] == \"C\", \"Embarked\"] = 1\n",
    "train.loc[train['Embarked'] == \"Q\", \"Embarked\"] = 2\n",
    "\n",
    "test.loc[test[\"Embarked\"] == \"S\", \"Embarked\"] = 0\n",
    "test.loc[test['Embarked'] == \"C\", \"Embarked\"] = 1\n",
    "test.loc[test['Embarked'] == \"Q\", \"Embarked\"] = 2"
   ]
  },
  {
   "cell_type": "code",
   "execution_count": 28,
   "metadata": {},
   "outputs": [],
   "source": [
    "train.loc[train['Sex'] == 'male',\"Sex\"] = 0\n",
    "train.loc[train['Sex'] == 'female','Sex'] = 1\n",
    "\n",
    "test.loc[test['Sex'] == 'male',\"Sex\"] = 0\n",
    "test.loc[test['Sex'] == 'female','Sex'] = 1"
   ]
  },
  {
   "cell_type": "code",
   "execution_count": 30,
   "metadata": {},
   "outputs": [
    {
     "data": {
      "text/plain": [
       "array([[ 3.,  0., 22.,  0.],\n",
       "       [ 1.,  1., 38.,  1.],\n",
       "       [ 3.,  1., 26.,  0.],\n",
       "       ...,\n",
       "       [ 3.,  1., 28.,  0.],\n",
       "       [ 1.,  0., 26.,  1.],\n",
       "       [ 3.,  0., 32.,  2.]])"
      ]
     },
     "execution_count": 30,
     "metadata": {},
     "output_type": "execute_result"
    }
   ],
   "source": [
    "data"
   ]
  },
  {
   "cell_type": "code",
   "execution_count": 31,
   "metadata": {},
   "outputs": [
    {
     "data": {
      "text/plain": [
       "(891, 4)"
      ]
     },
     "execution_count": 31,
     "metadata": {},
     "output_type": "execute_result"
    }
   ],
   "source": [
    "data.shape"
   ]
  },
  {
   "cell_type": "code",
   "execution_count": 81,
   "metadata": {},
   "outputs": [],
   "source": [
    "data = np.array(train[[\"Pclass\",\"Sex\",\"Age\",\"Embarked\"]].values, dtype = float)\n",
    "y = np.array(train['Survived'].values)\n",
    "tdata = np.array(test[[\"Pclass\",\"Sex\",\"Age\",\"Embarked\"]].values, dtype = float)"
   ]
  },
  {
   "attachments": {},
   "cell_type": "markdown",
   "metadata": {},
   "source": [
    "# create model"
   ]
  },
  {
   "cell_type": "code",
   "execution_count": 32,
   "metadata": {},
   "outputs": [
    {
     "data": {
      "text/plain": [
       "(891, 4)"
      ]
     },
     "execution_count": 32,
     "metadata": {},
     "output_type": "execute_result"
    }
   ],
   "source": [
    "data.shape"
   ]
  },
  {
   "cell_type": "code",
   "execution_count": 33,
   "metadata": {},
   "outputs": [
    {
     "data": {
      "text/plain": [
       "array([[ 3.,  0., 22.,  0.],\n",
       "       [ 1.,  1., 38.,  1.],\n",
       "       [ 3.,  1., 26.,  0.],\n",
       "       ...,\n",
       "       [ 3.,  1., 28.,  0.],\n",
       "       [ 1.,  0., 26.,  1.],\n",
       "       [ 3.,  0., 32.,  2.]])"
      ]
     },
     "execution_count": 33,
     "metadata": {},
     "output_type": "execute_result"
    }
   ],
   "source": [
    "data"
   ]
  },
  {
   "cell_type": "code",
   "execution_count": 62,
   "metadata": {},
   "outputs": [],
   "source": [
    "def preprocess_data(data,mi,mx):\n",
    "    # data \"Pclass\",\"Sex\",\"Age\",\"Embarked\"\n",
    "    # Pclass = 1 2 3\n",
    "    # sex = 0 1\n",
    "    # embarked = 0 1 2\n",
    "    age = (data[:,2]-mi)/mx\n",
    "    isPclass1 = np.array([x== 1 for x in data[:,0]])\n",
    "    isPclass2 = np.array([x== 2 for x in data[:,0]])\n",
    "    isPclass3 = np.array([x== 3 for x in data[:,0]])\n",
    "    isMale = np.array([x== 0 for x in data[:,1]])\n",
    "    isFemale = np.array([x== 1 for x in data[:,1]])\n",
    "    isEmbarked0 = np.array([x== 0 for x in data[:,3]])\n",
    "    isEmbarked1 = np.array([x== 1 for x in data[:,3]])\n",
    "    isEmbarked2 = np.array([x== 2 for x in data[:,3]])\n",
    "    return np.vstack((age,isPclass1,isPclass2,isPclass3,isMale,isFemale,isEmbarked0,isEmbarked1,isEmbarked2)).T"
   ]
  },
  {
   "cell_type": "code",
   "execution_count": 86,
   "metadata": {},
   "outputs": [],
   "source": [
    "mx = data[2].max()\n",
    "mi = data[2].min()\n",
    "new_data = preprocess_data(data,mi,mx)\n",
    "test_data = preprocess_data(tdata,mi,mx)"
   ]
  },
  {
   "cell_type": "code",
   "execution_count": 87,
   "metadata": {},
   "outputs": [
    {
     "data": {
      "text/plain": [
       "(891, 9)"
      ]
     },
     "execution_count": 87,
     "metadata": {},
     "output_type": "execute_result"
    }
   ],
   "source": [
    "new_data.shape"
   ]
  },
  {
   "cell_type": "code",
   "execution_count": 88,
   "metadata": {},
   "outputs": [],
   "source": [
    "vol_train = int(90*new_data.shape[0]/100)\n",
    "val_data = new_data[vol_train:]\n",
    "val_y = y[vol_train:]\n",
    "train_data = new_data[:vol_train]\n",
    "train_y = y[:vol_train]"
   ]
  },
  {
   "cell_type": "code",
   "execution_count": 90,
   "metadata": {},
   "outputs": [
    {
     "data": {
      "text/plain": [
       "(801, 9)"
      ]
     },
     "execution_count": 90,
     "metadata": {},
     "output_type": "execute_result"
    }
   ],
   "source": [
    "train_data.shape"
   ]
  },
  {
   "cell_type": "code",
   "execution_count": 96,
   "metadata": {},
   "outputs": [],
   "source": [
    "def MSE(y,ypre):\n",
    "    mse = sum([x**2 for x in (y-ypre)])/len(y)\n",
    "    return mse"
   ]
  },
  {
   "cell_type": "code",
   "execution_count": 153,
   "metadata": {},
   "outputs": [],
   "source": [
    "def acc(y,ypred,th):\n",
    "    return (np.array([1 if ans>th else 0 for ans in ypred]) == y).sum()"
   ]
  },
  {
   "cell_type": "code",
   "execution_count": 175,
   "metadata": {},
   "outputs": [],
   "source": [
    "def Bsigmoid(z):\n",
    "    return 1.0/(1 + np.exp(-z))\n",
    "sigmoid = np.vectorize(Bsigmoid)"
   ]
  },
  {
   "cell_type": "code",
   "execution_count": 173,
   "metadata": {},
   "outputs": [],
   "source": [
    "def predict(weight,data):\n",
    "    return sigmoid(weight[0] + np.sum(weight[1:]*data,axis = 1))"
   ]
  },
  {
   "cell_type": "code",
   "execution_count": 184,
   "metadata": {},
   "outputs": [],
   "source": [
    "def precess(weight,x,y,lr,th):\n",
    "    ypred = predict(weight,x)\n",
    "    # update for MSE\n",
    "    # w0 =  -2(ypred - y)\n",
    "    # wx = -2(ypred-y)*Xx\n",
    "    update_w0 = lr * -1 * 2 * (ypred - y).sum()\n",
    "    update_wx = lr * -1 * 2 * np.sum((ypred - y) * x.T,axis=1)\n",
    "\n",
    "    mse = MSE(y,ypred)\n",
    "    accuracy = acc(y,ypred,th)\n",
    "    return weight + np.append(update_w0,update_wx),mse,accuracy"
   ]
  },
  {
   "cell_type": "code",
   "execution_count": 185,
   "metadata": {},
   "outputs": [],
   "source": [
    "epoch = 100\n",
    "batch_size = 16\n",
    "lr = 0.01\n",
    "th=  0.5"
   ]
  },
  {
   "cell_type": "code",
   "execution_count": 190,
   "metadata": {},
   "outputs": [
    {
     "data": {
      "text/plain": [
       "array([ 35.,  39.,  94., -62.,  48., -40., -93.,  27.,  62.,  12.])"
      ]
     },
     "execution_count": 190,
     "metadata": {},
     "output_type": "execute_result"
    }
   ],
   "source": [
    "weight = np.random.randint(-100,100,size = train_data.shape[1]+1)/1.0\n",
    "weight"
   ]
  },
  {
   "cell_type": "code",
   "execution_count": 191,
   "metadata": {},
   "outputs": [
    {
     "name": "stdout",
     "output_type": "stream",
     "text": [
      "round 1/epoch : Train MSE = 32.01879151008599 : Train accuracy = : 0.3595505617977528 % : val MSE = 0.5998360542376346 : val accuracy = 0.4\n",
      "round 2/epoch : Train MSE = 30.52453912155684 : Train accuracy = : 0.3895131086142322 % : val MSE = 0.5646816898145353 : val accuracy = 0.4222222222222222\n",
      "round 3/epoch : Train MSE = 30.238159890201683 : Train accuracy = : 0.3895131086142322 % : val MSE = 0.5299849874411381 : val accuracy = 0.4666666666666667\n",
      "round 4/epoch : Train MSE = 27.015373373017617 : Train accuracy = : 0.4469413233458177 % : val MSE = 0.3354683530943087 : val accuracy = 0.6444444444444445\n",
      "round 5/epoch : Train MSE = 19.140153562165324 : Train accuracy = : 0.6067415730337079 % : val MSE = 0.31087142554973846 : val accuracy = 0.6666666666666666\n",
      "round 6/epoch : Train MSE = 18.391677754811923 : Train accuracy = : 0.6217228464419475 % : val MSE = 0.29619715420286524 : val accuracy = 0.6888888888888889\n",
      "round 7/epoch : Train MSE = 18.156669424442264 : Train accuracy = : 0.6329588014981273 % : val MSE = 0.290341549134088 : val accuracy = 0.7\n",
      "round 8/epoch : Train MSE = 18.03276968211119 : Train accuracy = : 0.634207240948814 % : val MSE = 0.2874494291324198 : val accuracy = 0.7111111111111111\n",
      "round 9/epoch : Train MSE = 17.901252141437293 : Train accuracy = : 0.6379525593008739 % : val MSE = 0.28518947915443243 : val accuracy = 0.7111111111111111\n",
      "round 10/epoch : Train MSE = 17.808626962649846 : Train accuracy = : 0.6392009987515606 % : val MSE = 0.28242586597482905 : val accuracy = 0.7111111111111111\n",
      "round 11/epoch : Train MSE = 17.705753329399982 : Train accuracy = : 0.6317103620474407 % : val MSE = 0.2753512766826425 : val accuracy = 0.7222222222222222\n",
      "round 12/epoch : Train MSE = 17.49843541161367 : Train accuracy = : 0.6317103620474407 % : val MSE = 0.2754262950281792 : val accuracy = 0.7111111111111111\n",
      "round 13/epoch : Train MSE = 17.478322013108826 : Train accuracy = : 0.6367041198501873 % : val MSE = 0.27721408301914063 : val accuracy = 0.7\n",
      "round 14/epoch : Train MSE = 17.543152076909966 : Train accuracy = : 0.6317103620474407 % : val MSE = 0.28268492901547104 : val accuracy = 0.7\n",
      "round 15/epoch : Train MSE = 17.53636583195611 : Train accuracy = : 0.630461922596754 % : val MSE = 0.285330902134756 : val accuracy = 0.6888888888888889\n",
      "round 16/epoch : Train MSE = 17.477504056570087 : Train accuracy = : 0.630461922596754 % : val MSE = 0.28714071073206704 : val accuracy = 0.6888888888888889\n",
      "round 17/epoch : Train MSE = 17.406254636368725 : Train accuracy = : 0.630461922596754 % : val MSE = 0.2875870905681705 : val accuracy = 0.6888888888888889\n",
      "round 18/epoch : Train MSE = 17.075571237569633 : Train accuracy = : 0.6329588014981273 % : val MSE = 0.26638288954659556 : val accuracy = 0.6888888888888889\n",
      "round 19/epoch : Train MSE = 16.448799364232727 : Train accuracy = : 0.6479400749063671 % : val MSE = 0.26085689764518316 : val accuracy = 0.7333333333333333\n",
      "round 20/epoch : Train MSE = 16.511336854469867 : Train accuracy = : 0.6566791510611736 % : val MSE = 0.2642031418219459 : val accuracy = 0.7333333333333333\n",
      "round 21/epoch : Train MSE = 16.555752631805078 : Train accuracy = : 0.6541822721598003 % : val MSE = 0.26632895435598275 : val accuracy = 0.7333333333333333\n",
      "round 22/epoch : Train MSE = 16.453563745043784 : Train accuracy = : 0.6529338327091136 % : val MSE = 0.2679443399389626 : val accuracy = 0.7333333333333333\n",
      "round 23/epoch : Train MSE = 16.310839636556143 : Train accuracy = : 0.6566791510611736 % : val MSE = 0.26967056963839536 : val accuracy = 0.7222222222222222\n",
      "round 24/epoch : Train MSE = 16.05858620202808 : Train accuracy = : 0.6566791510611736 % : val MSE = 0.2723778913331371 : val accuracy = 0.7222222222222222\n",
      "round 25/epoch : Train MSE = 15.581246109401674 : Train accuracy = : 0.66541822721598 % : val MSE = 0.2775437806808946 : val accuracy = 0.7111111111111111\n",
      "round 26/epoch : Train MSE = 15.256953070117476 : Train accuracy = : 0.6754057428214731 % : val MSE = 0.281858870066487 : val accuracy = 0.7111111111111111\n",
      "round 27/epoch : Train MSE = 15.067548274911495 : Train accuracy = : 0.686641697877653 % : val MSE = 0.28445101383026494 : val accuracy = 0.7111111111111111\n",
      "round 28/epoch : Train MSE = 14.967464919643223 : Train accuracy = : 0.6928838951310862 % : val MSE = 0.2859802295644164 : val accuracy = 0.7\n",
      "round 29/epoch : Train MSE = 14.913950399544742 : Train accuracy = : 0.6916354556803995 % : val MSE = 0.2869350332437146 : val accuracy = 0.7\n",
      "round 30/epoch : Train MSE = 14.881884422156604 : Train accuracy = : 0.6891385767790262 % : val MSE = 0.28758789616521374 : val accuracy = 0.7\n",
      "round 31/epoch : Train MSE = 14.860053576940308 : Train accuracy = : 0.6903870162297129 % : val MSE = 0.28807359368803104 : val accuracy = 0.7\n",
      "round 32/epoch : Train MSE = 14.839526362945787 : Train accuracy = : 0.6903870162297129 % : val MSE = 0.2884585558368566 : val accuracy = 0.7\n",
      "round 33/epoch : Train MSE = 14.811103581552178 : Train accuracy = : 0.6903870162297129 % : val MSE = 0.2887772090253928 : val accuracy = 0.7\n",
      "round 34/epoch : Train MSE = 14.775683098058726 : Train accuracy = : 0.6903870162297129 % : val MSE = 0.2890431347059256 : val accuracy = 0.7\n",
      "round 35/epoch : Train MSE = 14.742449763355596 : Train accuracy = : 0.6916354556803995 % : val MSE = 0.2892546265075517 : val accuracy = 0.7\n",
      "round 36/epoch : Train MSE = 14.71445219518845 : Train accuracy = : 0.6953807740324595 % : val MSE = 0.28940767110075744 : val accuracy = 0.7\n",
      "round 37/epoch : Train MSE = 14.691434390377454 : Train accuracy = : 0.6953807740324595 % : val MSE = 0.289503945879414 : val accuracy = 0.7\n",
      "round 38/epoch : Train MSE = 14.675314276595271 : Train accuracy = : 0.6941323345817728 % : val MSE = 0.28955237952779517 : val accuracy = 0.7\n",
      "round 39/epoch : Train MSE = 14.668402275281574 : Train accuracy = : 0.6966292134831461 % : val MSE = 0.2895679061462796 : val accuracy = 0.7111111111111111\n",
      "round 40/epoch : Train MSE = 14.66659501911259 : Train accuracy = : 0.6953807740324595 % : val MSE = 0.2895587584131724 : val accuracy = 0.7111111111111111\n",
      "round 41/epoch : Train MSE = 14.625930080738687 : Train accuracy = : 0.6966292134831461 % : val MSE = 0.28946319744801396 : val accuracy = 0.7111111111111111\n",
      "round 42/epoch : Train MSE = 14.411861625842064 : Train accuracy = : 0.7016229712858927 % : val MSE = 0.28883393614843134 : val accuracy = 0.7111111111111111\n",
      "round 43/epoch : Train MSE = 14.054552059392623 : Train accuracy = : 0.7028714107365793 % : val MSE = 0.2860010891181069 : val accuracy = 0.7111111111111111\n",
      "round 44/epoch : Train MSE = 13.50597657030854 : Train accuracy = : 0.7091136079900124 % : val MSE = 0.2784327543852382 : val accuracy = 0.7111111111111111\n",
      "round 45/epoch : Train MSE = 12.85544556036083 : Train accuracy = : 0.7166042446941323 % : val MSE = 0.26893513509797373 : val accuracy = 0.7222222222222222\n",
      "round 46/epoch : Train MSE = 12.354264478939646 : Train accuracy = : 0.7328339575530587 % : val MSE = 0.26093929397966575 : val accuracy = 0.7222222222222222\n",
      "round 47/epoch : Train MSE = 12.044272963597972 : Train accuracy = : 0.731585518102372 % : val MSE = 0.25448618752503005 : val accuracy = 0.7222222222222222\n",
      "round 48/epoch : Train MSE = 11.857738405982749 : Train accuracy = : 0.7303370786516854 % : val MSE = 0.24920846584852538 : val accuracy = 0.7222222222222222\n",
      "round 49/epoch : Train MSE = 11.737905142392668 : Train accuracy = : 0.7253433208489388 % : val MSE = 0.24488322181670302 : val accuracy = 0.7222222222222222\n",
      "round 50/epoch : Train MSE = 11.652700766505397 : Train accuracy = : 0.7290886392009988 % : val MSE = 0.2413049689028054 : val accuracy = 0.7444444444444445\n",
      "round 51/epoch : Train MSE = 11.58528236976821 : Train accuracy = : 0.731585518102372 % : val MSE = 0.23825957477320922 : val accuracy = 0.7444444444444445\n",
      "round 52/epoch : Train MSE = 11.526541718088833 : Train accuracy = : 0.7328339575530587 % : val MSE = 0.2355466148415294 : val accuracy = 0.7444444444444445\n",
      "round 53/epoch : Train MSE = 11.471165836623946 : Train accuracy = : 0.735330836454432 % : val MSE = 0.23299681202116104 : val accuracy = 0.7444444444444445\n",
      "round 54/epoch : Train MSE = 11.41566062864223 : Train accuracy = : 0.7365792759051186 % : val MSE = 0.23047793052494028 : val accuracy = 0.7444444444444445\n",
      "round 55/epoch : Train MSE = 11.357250865139244 : Train accuracy = : 0.7390761548064919 % : val MSE = 0.2278941703389494 : val accuracy = 0.7444444444444445\n",
      "round 56/epoch : Train MSE = 11.293063158524237 : Train accuracy = : 0.7415730337078652 % : val MSE = 0.22517993775621398 : val accuracy = 0.7444444444444445\n",
      "round 57/epoch : Train MSE = 11.219211289658553 : Train accuracy = : 0.7415730337078652 % : val MSE = 0.22228171052230966 : val accuracy = 0.7444444444444445\n",
      "round 58/epoch : Train MSE = 11.129474034431157 : Train accuracy = : 0.7428214731585518 % : val MSE = 0.21911675275392126 : val accuracy = 0.7444444444444445\n",
      "round 59/epoch : Train MSE = 11.013472097700602 : Train accuracy = : 0.7440699126092385 % : val MSE = 0.21549882344992702 : val accuracy = 0.7444444444444445\n",
      "round 60/epoch : Train MSE = 10.855189931415566 : Train accuracy = : 0.7428214731585518 % : val MSE = 0.21104078659515554 : val accuracy = 0.7444444444444445\n",
      "round 61/epoch : Train MSE = 10.634333188874045 : Train accuracy = : 0.7428214731585518 % : val MSE = 0.20512162397314077 : val accuracy = 0.7555555555555555\n",
      "round 62/epoch : Train MSE = 10.332912952146438 : Train accuracy = : 0.7440699126092385 % : val MSE = 0.19715330336510387 : val accuracy = 0.7555555555555555\n",
      "round 63/epoch : Train MSE = 9.945801353085123 : Train accuracy = : 0.7453183520599251 % : val MSE = 0.18724370876969335 : val accuracy = 0.7444444444444445\n",
      "round 64/epoch : Train MSE = 9.490858820109324 : Train accuracy = : 0.7528089887640449 % : val MSE = 0.1765092371425646 : val accuracy = 0.7444444444444445\n",
      "round 65/epoch : Train MSE = 9.011583421351622 : Train accuracy = : 0.7540574282147315 % : val MSE = 0.16641913016762216 : val accuracy = 0.7555555555555555\n",
      "round 66/epoch : Train MSE = 8.563169093604449 : Train accuracy = : 0.7578027465667915 % : val MSE = 0.15808370251115 : val accuracy = 0.7777777777777778\n",
      "round 67/epoch : Train MSE = 8.187117160351056 : Train accuracy = : 0.762796504369538 % : val MSE = 0.15199429783061832 : val accuracy = 0.7888888888888889\n",
      "round 68/epoch : Train MSE = 7.8975887554677175 : Train accuracy = : 0.7602996254681648 % : val MSE = 0.14804086348300327 : val accuracy = 0.7888888888888889\n",
      "round 69/epoch : Train MSE = 7.687871107098095 : Train accuracy = : 0.7702871410736579 % : val MSE = 0.1457662027430115 : val accuracy = 0.8\n",
      "round 70/epoch : Train MSE = 7.542526705041104 : Train accuracy = : 0.7752808988764045 % : val MSE = 0.14464703266523427 : val accuracy = 0.8111111111111111\n",
      "round 71/epoch : Train MSE = 7.445067027975283 : Train accuracy = : 0.7852684144818977 % : val MSE = 0.14424453533850287 : val accuracy = 0.8\n",
      "round 72/epoch : Train MSE = 7.381245565316443 : Train accuracy = : 0.7865168539325843 % : val MSE = 0.14424321645730714 : val accuracy = 0.8111111111111111\n",
      "round 73/epoch : Train MSE = 7.340057434466849 : Train accuracy = : 0.7865168539325843 % : val MSE = 0.1444381589824901 : val accuracy = 0.8111111111111111\n",
      "round 74/epoch : Train MSE = 7.3136344164676474 : Train accuracy = : 0.784019975031211 % : val MSE = 0.1447072173482586 : val accuracy = 0.8111111111111111\n",
      "round 75/epoch : Train MSE = 7.296659545243704 : Train accuracy = : 0.7852684144818977 % : val MSE = 0.14498386713218134 : val accuracy = 0.8333333333333334\n",
      "round 76/epoch : Train MSE = 7.285677420760029 : Train accuracy = : 0.7852684144818977 % : val MSE = 0.14523600786639768 : val accuracy = 0.8333333333333334\n",
      "round 77/epoch : Train MSE = 7.278495784026657 : Train accuracy = : 0.7852684144818977 % : val MSE = 0.14545132497695454 : val accuracy = 0.8333333333333334\n",
      "round 78/epoch : Train MSE = 7.273739912910877 : Train accuracy = : 0.787765293383271 % : val MSE = 0.14562800390869496 : val accuracy = 0.8222222222222222\n",
      "round 79/epoch : Train MSE = 7.2705494119592045 : Train accuracy = : 0.7890137328339576 % : val MSE = 0.14576922245303955 : val accuracy = 0.8222222222222222\n",
      "round 80/epoch : Train MSE = 7.268382860955131 : Train accuracy = : 0.787765293383271 % : val MSE = 0.14588008024593635 : val accuracy = 0.8111111111111111\n",
      "round 81/epoch : Train MSE = 7.266895913722828 : Train accuracy = : 0.7890137328339576 % : val MSE = 0.14596600262198037 : val accuracy = 0.8111111111111111\n",
      "round 82/epoch : Train MSE = 7.265866480588048 : Train accuracy = : 0.7890137328339576 % : val MSE = 0.1460319907396201 : val accuracy = 0.8111111111111111\n",
      "round 83/epoch : Train MSE = 7.265149064882574 : Train accuracy = : 0.787765293383271 % : val MSE = 0.14608233311568478 : val accuracy = 0.8111111111111111\n",
      "round 84/epoch : Train MSE = 7.264646822547037 : Train accuracy = : 0.787765293383271 % : val MSE = 0.146120553524859 : val accuracy = 0.8111111111111111\n",
      "round 85/epoch : Train MSE = 7.264294317895868 : Train accuracy = : 0.787765293383271 % : val MSE = 0.1461494689768934 : val accuracy = 0.8111111111111111\n",
      "round 86/epoch : Train MSE = 7.264046740455787 : Train accuracy = : 0.787765293383271 % : val MSE = 0.14617128994691264 : val accuracy = 0.8111111111111111\n",
      "round 87/epoch : Train MSE = 7.26387305258032 : Train accuracy = : 0.787765293383271 % : val MSE = 0.14618772845989236 : val accuracy = 0.8111111111111111\n",
      "round 88/epoch : Train MSE = 7.2637515571687 : Train accuracy = : 0.787765293383271 % : val MSE = 0.14620009811009627 : val accuracy = 0.8111111111111111\n",
      "round 89/epoch : Train MSE = 7.263666978614517 : Train accuracy = : 0.787765293383271 % : val MSE = 0.1462093999218824 : val accuracy = 0.8111111111111111\n",
      "round 90/epoch : Train MSE = 7.263608506869509 : Train accuracy = : 0.787765293383271 % : val MSE = 0.14621639290762156 : val accuracy = 0.8111111111111111\n",
      "round 91/epoch : Train MSE = 7.263568466106888 : Train accuracy = : 0.787765293383271 % : val MSE = 0.14622165045828406 : val accuracy = 0.8111111111111111\n",
      "round 92/epoch : Train MSE = 7.263541396068635 : Train accuracy = : 0.787765293383271 % : val MSE = 0.14622560457229936 : val accuracy = 0.8111111111111111\n",
      "round 93/epoch : Train MSE = 7.263523410904396 : Train accuracy = : 0.787765293383271 % : val MSE = 0.14622858009159437 : val accuracy = 0.8111111111111111\n",
      "round 94/epoch : Train MSE = 7.263511747558817 : Train accuracy = : 0.787765293383271 % : val MSE = 0.14623082095260148 : val accuracy = 0.8111111111111111\n",
      "round 95/epoch : Train MSE = 7.263504445404021 : Train accuracy = : 0.787765293383271 % : val MSE = 0.1462325101755068 : val accuracy = 0.8111111111111111\n",
      "round 96/epoch : Train MSE = 7.263500117776098 : Train accuracy = : 0.787765293383271 % : val MSE = 0.14623378500742712 : val accuracy = 0.8111111111111111\n",
      "round 97/epoch : Train MSE = 7.2634977884514695 : Train accuracy = : 0.787765293383271 % : val MSE = 0.1462347483506279 : val accuracy = 0.8111111111111111\n",
      "round 98/epoch : Train MSE = 7.2634967743322 : Train accuracy = : 0.787765293383271 % : val MSE = 0.14623547736264653 : val accuracy = 0.8111111111111111\n",
      "round 99/epoch : Train MSE = 7.263496601184643 : Train accuracy = : 0.787765293383271 % : val MSE = 0.1462360299146166 : val accuracy = 0.8111111111111111\n",
      "round 100/epoch : Train MSE = 7.263496943108856 : Train accuracy = : 0.787765293383271 % : val MSE = 0.14623644943379574 : val accuracy = 0.8111111111111111\n"
     ]
    }
   ],
   "source": [
    "for i in range(epoch):\n",
    "    print(f\"round {i+1}/epoch : \",end='')\n",
    "    round = (train_data.shape[0]-1)//batch_size +1\n",
    "    this_mse = 0\n",
    "    this_acc = 0\n",
    "    for j in range(round):\n",
    "        batch_data = train_data[j*batch_size:(j+1)*batch_size]\n",
    "        batch_y = train_y[j*batch_size:(j+1)*batch_size]\n",
    "        weight,mse,accu = precess(weight,batch_data,batch_y,lr,th)\n",
    "        this_mse+=mse\n",
    "        this_acc+=accu\n",
    "    print(f\"Train MSE = {this_mse} : \",end = '')\n",
    "    print(f\"Train accuracy = : {this_acc/train_data.shape[0]} % : \",end = '')\n",
    "    val_ypred = predict(weight,val_data)\n",
    "    print(f\"val MSE = {MSE(val_y,val_ypred)} : \",end = '')\n",
    "    print(f\"val accuracy = {acc(val_y,val_ypred,th)/val_data.shape[0]}\")"
   ]
  },
  {
   "cell_type": "code",
   "execution_count": 199,
   "metadata": {},
   "outputs": [],
   "source": [
    "submission_y = np.array([1 if ans>th else 0 for ans in predict(weight,test_data)])"
   ]
  },
  {
   "cell_type": "code",
   "execution_count": 200,
   "metadata": {},
   "outputs": [
    {
     "data": {
      "text/plain": [
       "(418,)"
      ]
     },
     "execution_count": 200,
     "metadata": {},
     "output_type": "execute_result"
    }
   ],
   "source": [
    "submission_y.shape"
   ]
  },
  {
   "cell_type": "code",
   "execution_count": 210,
   "metadata": {},
   "outputs": [],
   "source": [
    "submission = pd.DataFrame({\"PassengerId\":test['PassengerId'].values,'Survived':submission_y})"
   ]
  },
  {
   "cell_type": "code",
   "execution_count": 212,
   "metadata": {},
   "outputs": [],
   "source": [
    "submission.to_csv('submission.csv',index=False)"
   ]
  }
 ],
 "metadata": {
  "kernelspec": {
   "display_name": "Python 3",
   "language": "python",
   "name": "python3"
  },
  "language_info": {
   "codemirror_mode": {
    "name": "ipython",
    "version": 3
   },
   "file_extension": ".py",
   "mimetype": "text/x-python",
   "name": "python",
   "nbconvert_exporter": "python",
   "pygments_lexer": "ipython3",
   "version": "3.10.9"
  },
  "orig_nbformat": 4,
  "vscode": {
   "interpreter": {
    "hash": "d822f28d42ebb475ad8cce73c6f1d8b9d8cb17e96ffaed62cb524ec6ed5ad38f"
   }
  }
 },
 "nbformat": 4,
 "nbformat_minor": 2
}
